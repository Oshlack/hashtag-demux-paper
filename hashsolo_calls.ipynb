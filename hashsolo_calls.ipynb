{
 "cells": [
  {
   "cell_type": "markdown",
   "id": "4a0a1fdf",
   "metadata": {},
   "source": [
    "HashSolo assignments for \"Benchmarking single-cell hashtag oligo demultiplexing methods\", George Howitt et al, 2022"
   ]
  },
  {
   "cell_type": "code",
   "execution_count": 1,
   "id": "9b12db21",
   "metadata": {},
   "outputs": [],
   "source": [
    "import numpy as np\n",
    "import scanpy as sc\n",
    "import scanpy.external as sce\n",
    "import pandas as pd\n",
    "from scipy import io\n",
    "from scipy import sparse"
   ]
  },
  {
   "cell_type": "code",
   "execution_count": 11,
   "id": "fd2e44c2",
   "metadata": {},
   "outputs": [],
   "source": [
    "#List of capture names for BAL data set\n",
    "captures = [\"batch1_c1\", \"batch1_c2\", \"batch2_c1\", \"batch2_c2\", \"batch3_c1\", \"batch3_c2\"]"
   ]
  },
  {
   "cell_type": "code",
   "execution_count": 3,
   "id": "de9dca17",
   "metadata": {},
   "outputs": [],
   "source": [
    "def get_hashsolo_calls(capture, priors = [0.01, 0.8, 0.19]):\n",
    "    assert(sum(priors) == 1.0)\n",
    "    #Load in counts\n",
    "    counts = io.mmread(\"data/adata/\" + capture + \"_counts.mtx\")\n",
    "    counts = sparse.csr_matrix(counts)\n",
    "    \n",
    "    #Load in barcodes\n",
    "    barcodes = pd.read_csv(\"data/adata/\" + capture + \"_barcodes.csv\")\n",
    "    HTOs = pd.read_csv(\"data/adata/\" + capture[0:6] + \"_HTOs.csv\")\n",
    "    \n",
    "    #Create AnnData object\n",
    "    adata = sc.AnnData(counts.T)\n",
    "    adata.var_names = HTOs[\"HTO\"].values\n",
    "    \n",
    "    #HashSolo requires the counts to be in the obs part of the AnnData object\n",
    "    df = pd.DataFrame.sparse.from_spmatrix(counts.T)\n",
    "    df.columns = HTOs[\"HTO\"]\n",
    "    df.index = barcodes[\"Barcode\"]\n",
    "    adata.obs = df\n",
    "    \n",
    "    #Run HashSolo\n",
    "    sce.pp.hashsolo(adata, list(HTOs[\"HTO\"]), priors = priors)\n",
    "    \n",
    "    #Write assignments to file\n",
    "    adata.obs.Classification.to_csv(\"data/adata/\" + capture + \"_hashsolo.csv\")"
   ]
  },
  {
   "cell_type": "code",
   "execution_count": 4,
   "id": "87808b23",
   "metadata": {
    "collapsed": true
   },
   "outputs": [
    {
     "name": "stderr",
     "output_type": "stream",
     "text": [
      "/var/folders/wq/cy0mq7655kv2k3kff6klcg0skxlr2k/T/ipykernel_65752/232507266.py:12: FutureWarning: X.dtype being converted to np.float32 from int64. In the next version of anndata (0.9) conversion will not be automatic. Pass dtype explicitly to avoid this warning. Pass `AnnData(X, dtype=X.dtype, ...)` to get the future behavour.\n",
      "  adata = sc.AnnData(counts.T)\n"
     ]
    },
    {
     "name": "stdout",
     "output_type": "stream",
     "text": [
      "Please cite HashSolo paper:\n",
      "https://www.cell.com/cell-systems/fulltext/S2405-4712(20)30195-2\n",
      "Please cite HashSolo paper:\n",
      "https://www.cell.com/cell-systems/fulltext/S2405-4712(20)30195-2\n",
      "Please cite HashSolo paper:\n",
      "https://www.cell.com/cell-systems/fulltext/S2405-4712(20)30195-2\n",
      "Please cite HashSolo paper:\n",
      "https://www.cell.com/cell-systems/fulltext/S2405-4712(20)30195-2\n",
      "Please cite HashSolo paper:\n",
      "https://www.cell.com/cell-systems/fulltext/S2405-4712(20)30195-2\n",
      "Please cite HashSolo paper:\n",
      "https://www.cell.com/cell-systems/fulltext/S2405-4712(20)30195-2\n"
     ]
    },
    {
     "data": {
      "text/plain": [
       "[None, None, None, None, None, None]"
      ]
     },
     "execution_count": 4,
     "metadata": {},
     "output_type": "execute_result"
    }
   ],
   "source": [
    "#Run on each of the captures in BAL data set.\n",
    "[get_hashsolo_calls(capture, priors = [0.05, 0.75, 0.2]) for capture in captures]"
   ]
  },
  {
   "cell_type": "markdown",
   "id": "7a509bbb",
   "metadata": {},
   "source": [
    "Cell line data set"
   ]
  },
  {
   "cell_type": "code",
   "execution_count": 8,
   "id": "7ddd0318",
   "metadata": {},
   "outputs": [],
   "source": [
    "#List of LMO captures\n",
    "lmo_captures = [\"lmo_c1\", \"lmo_c2\", \"lmo_c3\"]"
   ]
  },
  {
   "cell_type": "code",
   "execution_count": 9,
   "id": "1f767bec",
   "metadata": {},
   "outputs": [],
   "source": [
    "def get_hashsolo_calls_LMO(capture, priors = [0.01, 0.8, 0.19]):\n",
    "    assert(sum(priors) == 1.0)\n",
    "    counts = io.mmread(\"data/adata/\" + capture + \"_counts.mtx\")\n",
    "    counts = sparse.csr_matrix(counts)\n",
    "    \n",
    "    barcodes = pd.read_csv(\"data/adata/\" + capture + \"_barcodes.csv\")\n",
    "    HTOs = pd.read_csv(\"data/adata/LMO_labels.csv\")\n",
    "    \n",
    "    adata = sc.AnnData(counts.T)\n",
    "    adata.var_names = HTOs[\"HTO\"].values\n",
    "    \n",
    "    df = pd.DataFrame.sparse.from_spmatrix(counts.T)\n",
    "    df.columns = HTOs[\"HTO\"]\n",
    "    df.index = barcodes[\"Barcode\"]\n",
    "    adata.obs = df\n",
    "    \n",
    "    sce.pp.hashsolo(adata, list(HTOs[\"HTO\"]), priors = priors)\n",
    "    \n",
    "    adata.obs.Classification.to_csv(\"data/adata/\" + capture + \"_hashsolo.csv\")"
   ]
  },
  {
   "cell_type": "code",
   "execution_count": 10,
   "id": "fb5d2530",
   "metadata": {
    "collapsed": true
   },
   "outputs": [
    {
     "name": "stderr",
     "output_type": "stream",
     "text": [
      "/var/folders/wq/cy0mq7655kv2k3kff6klcg0skxlr2k/T/ipykernel_65752/3905745566.py:9: FutureWarning: X.dtype being converted to np.float32 from int64. In the next version of anndata (0.9) conversion will not be automatic. Pass dtype explicitly to avoid this warning. Pass `AnnData(X, dtype=X.dtype, ...)` to get the future behavour.\n",
      "  adata = sc.AnnData(counts.T)\n"
     ]
    },
    {
     "name": "stdout",
     "output_type": "stream",
     "text": [
      "Please cite HashSolo paper:\n",
      "https://www.cell.com/cell-systems/fulltext/S2405-4712(20)30195-2\n",
      "Please cite HashSolo paper:\n",
      "https://www.cell.com/cell-systems/fulltext/S2405-4712(20)30195-2\n",
      "Please cite HashSolo paper:\n",
      "https://www.cell.com/cell-systems/fulltext/S2405-4712(20)30195-2\n"
     ]
    },
    {
     "data": {
      "text/plain": [
       "[None, None, None]"
      ]
     },
     "execution_count": 10,
     "metadata": {},
     "output_type": "execute_result"
    }
   ],
   "source": [
    "[get_hashsolo_calls_LMO(capture, priors = [0.05, 0.75, 0.2]) for capture in lmo_captures]"
   ]
  },
  {
   "cell_type": "code",
   "execution_count": null,
   "id": "59720698",
   "metadata": {},
   "outputs": [],
   "source": []
  }
 ],
 "metadata": {
  "kernelspec": {
   "display_name": "Python 3 (ipykernel)",
   "language": "python",
   "name": "python3"
  },
  "language_info": {
   "codemirror_mode": {
    "name": "ipython",
    "version": 3
   },
   "file_extension": ".py",
   "mimetype": "text/x-python",
   "name": "python",
   "nbconvert_exporter": "python",
   "pygments_lexer": "ipython3",
   "version": "3.9.12"
  }
 },
 "nbformat": 4,
 "nbformat_minor": 5
}
